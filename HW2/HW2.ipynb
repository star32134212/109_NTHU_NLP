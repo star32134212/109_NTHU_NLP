{
 "cells": [
  {
   "cell_type": "code",
   "execution_count": 1,
   "metadata": {},
   "outputs": [
    {
     "name": "stdout",
     "output_type": "stream",
     "text": [
      "None\n"
     ]
    }
   ],
   "source": [
    "#!/usr/bin/env python\n",
    "# coding: utf-8\n",
    "\n",
    "import math, re\n",
    "from collections import Counter\n",
    "\n",
    "\n",
    "# tokenize text and get words list\n",
    "def words(text): return re.findall(r'\\w+', text.lower())\n",
    "\n",
    "\n",
    "# get all bigrams\n",
    "def bigrams(text):\n",
    "    pass\n",
    "\n",
    "# these are word-level 1-grams(unigram) and 2-grams(bigram)\n",
    "# count of the number of times they appeared\n",
    "uni_count = Counter(words(open('big.txt').read()))\n",
    "bi_count = Counter(bigrams(open('big.txt').read()))\n",
    "\n",
    "\n",
    "# ==Format==\n",
    "# call add1_smooth(\"He is\") or add1_smooth((\"He\", \"is\")) something like that...\n",
    "# retrun 1.306 (probability with add one smooth)\n",
    "V = len(list(uni_count.keys()))\n",
    "def add1_smooth(bigram):\n",
    "    pass\n",
    "\n",
    "# ==Format==\n",
    "# call sentence_prob(\"He is looking a new job.\")\n",
    "# retrun -33.306 (sentence probability)\n",
    "def sentence_prob(sentence):\n",
    "    pass\n",
    "\n",
    "\n",
    "if __name__ == \"__main__\":\n",
    "    lm = sentence_prob(\"He is looking a new job.\")\n",
    "    print(lm)"
   ]
  },
  {
   "cell_type": "code",
   "execution_count": null,
   "metadata": {},
   "outputs": [],
   "source": []
  }
 ],
 "metadata": {
  "kernelspec": {
   "display_name": "Python 3",
   "language": "python",
   "name": "python3"
  },
  "language_info": {
   "codemirror_mode": {
    "name": "ipython",
    "version": 3
   },
   "file_extension": ".py",
   "mimetype": "text/x-python",
   "name": "python",
   "nbconvert_exporter": "python",
   "pygments_lexer": "ipython3",
   "version": "3.7.3"
  }
 },
 "nbformat": 4,
 "nbformat_minor": 2
}
