{
 "cells": [
  {
   "cell_type": "markdown",
   "metadata": {
    "toc": true
   },
   "source": [
    "<h1>Table of Contents<span class=\"tocSkip\"></span></h1>\n",
    "<div class=\"toc\"><ul class=\"toc-item\"><li><span><a href=\"#read-data\" data-toc-modified-id=\"read-data-1\"><span class=\"toc-item-num\">1&nbsp;&nbsp;</span>read data</a></span></li><li><span><a href=\"#sentence-processing\" data-toc-modified-id=\"sentence-processing-2\"><span class=\"toc-item-num\">2&nbsp;&nbsp;</span>sentence processing</a></span></li><li><span><a href=\"#[Step-1]-generate-all-the-skip-bigram-of-&quot;edit-tag&quot;\" data-toc-modified-id=\"[Step-1]-generate-all-the-skip-bigram-of-&quot;edit-tag&quot;-3\"><span class=\"toc-item-num\">3&nbsp;&nbsp;</span>[Step 1] generate all the skip-bigram of \"edit tag\"</a></span></li><li><span><a href=\"#set-progress\" data-toc-modified-id=\"set-progress-4\"><span class=\"toc-item-num\">4&nbsp;&nbsp;</span>set progress</a></span></li><li><span><a href=\"#[Step-2]-implement-skip-bigram\" data-toc-modified-id=\"[Step-2]-implement-skip-bigram-5\"><span class=\"toc-item-num\">5&nbsp;&nbsp;</span>[Step 2] implement skip bigram</a></span></li><li><span><a href=\"#[Step-3]-calculate-all-the-required-number-first-(freq,-std,-spread,-etc.)\" data-toc-modified-id=\"[Step-3]-calculate-all-the-required-number-first-(freq,-std,-spread,-etc.)-6\"><span class=\"toc-item-num\">6&nbsp;&nbsp;</span>[Step 3] calculate all the required number first (freq, std, spread, etc.)</a></span></li><li><span><a href=\"#[Step-4]-implement-Smadja-algorithm\" data-toc-modified-id=\"[Step-4]-implement-Smadja-algorithm-7\"><span class=\"toc-item-num\">7&nbsp;&nbsp;</span>[Step 4] implement Smadja algorithm</a></span></li></ul></div>"
   ]
  },
  {
   "cell_type": "code",
   "execution_count": 1,
   "metadata": {},
   "outputs": [],
   "source": [
    "import numpy as np\n",
    "import math, re\n",
    "from collections import defaultdict\n",
    "import sys\n",
    "import threading\n",
    "from math import sqrt\n",
    "import operator"
   ]
  },
  {
   "cell_type": "markdown",
   "metadata": {},
   "source": [
    "# read data"
   ]
  },
  {
   "cell_type": "code",
   "execution_count": 3,
   "metadata": {},
   "outputs": [],
   "source": [
    "# M:insert U:delete R:replace\n",
    "PROBLEM_WORDS = [ line.strip() for line in open('problem_word_list.txt') ]\n",
    "corpus = open('lang8.pos.m2.txt').read().split('\\n\\n')\n",
    "corpus_list = [i.split('\\n') for i in corpus]\n",
    "corpus_list = [i for i in corpus_list if len(i) >=2]"
   ]
  },
  {
   "cell_type": "markdown",
   "metadata": {},
   "source": [
    "# sentence processing\n",
    "Input :\n",
    "``` python\n",
    "row = 'S I//PRON feel//VERB relax//VERB to//PART take//VERB a//DET bedrock//NOUN bath//NOUN ^//PUNCT ^//PUNCT'\n",
    "edit = 'A 1 2|||R:VERB:TENSE|||felt|||REQUIRED|||-NONE-|||0'\n",
    "```\n",
    "\n",
    "Output :\n",
    "``` python\n",
    "['I', '[-feel-]{+felt+}', 'relax', 'to', 'take', 'a', 'bedrock', 'bath', '^', '^']\n",
    "```"
   ]
  },
  {
   "cell_type": "code",
   "execution_count": 4,
   "metadata": {},
   "outputs": [],
   "source": [
    "def m2_to_wikiedit(row, edit):\n",
    "    sent = [i.split('//')[0] for i in row.split()[1:]]\n",
    "    index, pos, word, _, _, _ = edit.split('|||')\n",
    "    start, end = [int(i) for i in index.split()[1:] ]\n",
    "    if pos[0] == 'M': \n",
    "        sent.insert(start, '{+' + '_'.join(word.split()) + '+}')\n",
    "    elif pos[0] == 'U':\n",
    "        _del = '_'.join(sent[start:end])\n",
    "        del sent[start:end]\n",
    "        sent.insert(start, '[-' + _del + '-]' )\n",
    "    else:\n",
    "        _rep = '_'.join(sent[start:end])\n",
    "        del sent[start:end]\n",
    "        sent.insert(start, '[-' + _rep + '-]{+' + '_'.join(word.split()) + '+}' )\n",
    "    return sent"
   ]
  },
  {
   "cell_type": "markdown",
   "metadata": {},
   "source": [
    "# [Step 1] generate all the skip-bigram of \"edit tag\"\n",
    "* call m2_to_wikiedit function to process sentence\n",
    "* generate skip-bigram\n",
    "\n",
    "Example :\n",
    "``` python\n",
    "row = ['S I//PRON feel//VERB relax//VERB to//PART take//VERB a//DET bedrock//NOUN bath//NOUN ^//PUNCT ^//PUNCT',\n",
    " 'A 1 2|||R:VERB:TENSE|||felt|||REQUIRED|||-NONE-|||0',\n",
    " 'A 2 3|||R:ADJ:FORM|||relaxed|||REQUIRED|||-NONE-|||0']\n",
    "print(list_to_skipgram(row))\n",
    "```\n",
    "Result :  `[(problem_word, edit_tag, distance), ...]`\n",
    "``` python\n",
    "[('relax', '[-feel-]{+felt+}', -1),\n",
    " ('to', '[-feel-]{+felt+}', -2),\n",
    " ('feel', '[-relax-]{+relaxed+}', 1),\n",
    " ('to', '[-relax-]{+relaxed+}', -1)]\n",
    "```"
   ]
  },
  {
   "cell_type": "code",
   "execution_count": 5,
   "metadata": {},
   "outputs": [],
   "source": [
    "def list_to_skipgram(row, maxdist = 5, problem_words = PROBLEM_WORDS):\n",
    "    skip = []\n",
    "    for edit in row[1:]:\n",
    "        sent = m2_to_wikiedit(row[0], edit)\n",
    "        ### Your code here ###\n",
    "    \n",
    "    return skip"
   ]
  },
  {
   "cell_type": "code",
   "execution_count": null,
   "metadata": {},
   "outputs": [],
   "source": [
    "row = ['S I//PRON feel//VERB relax//VERB to//PART take//VERB a//DET bedrock//NOUN bath//NOUN ^//PUNCT ^//PUNCT',\n",
    " 'A 1 2|||R:VERB:TENSE|||felt|||REQUIRED|||-NONE-|||0',\n",
    " 'A 2 3|||R:ADJ:FORM|||relaxed|||REQUIRED|||-NONE-|||0']\n",
    "list_to_skipgram(row)"
   ]
  },
  {
   "cell_type": "markdown",
   "metadata": {},
   "source": [
    "# set progress\n",
    "設定progress，用來顯示程式執行進度"
   ]
  },
  {
   "cell_type": "code",
   "execution_count": null,
   "metadata": {},
   "outputs": [],
   "source": [
    "def setInterval(interval, times = -1):\n",
    "    def outer_wrap(function):\n",
    "        def wrap(*args, **kwargs):\n",
    "            stop = threading.Event()\n",
    "            def inner_wrap():\n",
    "                i = 0\n",
    "                while i != times and not stop.isSet():\n",
    "                    stop.wait(interval)\n",
    "                    function(*args, **kwargs)\n",
    "                    i += 1\n",
    "            t = threading.Timer(0, inner_wrap)\n",
    "            t.daemon = True\n",
    "            t.start()\n",
    "            return stop\n",
    "        return wrap\n",
    "    return outer_wrap\n",
    "\n",
    "@setInterval(0.4)\n",
    "def progress():\n",
    "    sys.stdout.write('\\r%s%%' % int((i / len(corpus_list)) * 100 + 1))\n",
    "    sys.stdout.flush()"
   ]
  },
  {
   "cell_type": "markdown",
   "metadata": {},
   "source": [
    "# [Step 2] implement skip bigram\n",
    "Example :\n",
    "``` python\n",
    "print(skgm['arrive']['{+at+}'].items())\n",
    "```\n",
    "Result :\n",
    "``` python\n",
    "dict_items([(-1, 24), (2, 1)])\n",
    "```"
   ]
  },
  {
   "cell_type": "code",
   "execution_count": 7,
   "metadata": {},
   "outputs": [
    {
     "name": "stdout",
     "output_type": "stream",
     "text": [
      "100%"
     ]
    }
   ],
   "source": [
    "skgm = defaultdict(lambda: defaultdict(lambda: defaultdict(lambda: 0)))\n",
    " \n",
    "stopper = progress()\n",
    "\n",
    "for i, c in enumerate(corpus_list):\n",
    "    ### Your code here ###\n",
    "    \n",
    "stopper.set()"
   ]
  },
  {
   "cell_type": "code",
   "execution_count": null,
   "metadata": {},
   "outputs": [],
   "source": [
    "skgm['arrive']['{+at+}'].items()"
   ]
  },
  {
   "cell_type": "markdown",
   "metadata": {},
   "source": [
    "# [Step 3] calculate all the required number first (freq, std, spread, etc.)\n",
    "Example :\n",
    "\n",
    "``` python\n",
    "print(skipbigram_static['arrive']['{+at+}'])\n",
    "```\n",
    "Result :\n",
    "``` python\n",
    "{\n",
    "    'freq': 25,\n",
    "    'avg_p': 2.5,\n",
    "    'pos_spread': 46.45,\n",
    "    'strength': 13.413212074892048,\n",
    "}\n",
    "```"
   ]
  },
  {
   "cell_type": "code",
   "execution_count": 14,
   "metadata": {},
   "outputs": [
    {
     "name": "stderr",
     "output_type": "stream",
     "text": [
      "/usr/local/Cellar/ipython/7.8.0/libexec/vendor/lib/python3.7/site-packages/ipykernel_launcher.py:18: RuntimeWarning: invalid value encountered in double_scalars\n"
     ]
    }
   ],
   "source": [
    "skipbigram_static = defaultdict(lambda: defaultdict())\n",
    "\n",
    "for pro, tag_list in skgm.items():\n",
    "    ### Your code here ###\n"
   ]
  },
  {
   "cell_type": "code",
   "execution_count": null,
   "metadata": {},
   "outputs": [],
   "source": [
    "skipbigram_static['arrive']['{+at+}']"
   ]
  },
  {
   "cell_type": "markdown",
   "metadata": {},
   "source": [
    "# [Step 4] implement Smadja algorithm\n",
    "Example :\n",
    "\n",
    "``` python\n",
    "valid_collocation('discuss')\n",
    "print()\n",
    "valid_collocation('explain')\n",
    "```\n",
    "Result :\n",
    "``` python\n",
    "discuss [-about-] (-1, 11)\n",
    "\n",
    "explain [-about-] (-1, 19)\n",
    "explain {+the+} (-1, 11)\n",
    "explain {+to+} (-1, 12)\n",
    "explain {+it+} (-1, 18)\n",
    "explain {+will+} (3, 5)\n",
    "explain {+'ll+} (1, 5)\n",
    "explain {+this+} (-1, 5)\n",
    "```"
   ]
  },
  {
   "cell_type": "code",
   "execution_count": 11,
   "metadata": {},
   "outputs": [],
   "source": [
    "def valid_collocation(key):\n",
    "    K0 = 1\n",
    "    U0 = 5\n",
    "    K1 = 1\n",
    "    for edit_tag in skipbigram_static[key]:\n",
    "        ### Your code here ###"
   ]
  },
  {
   "cell_type": "code",
   "execution_count": null,
   "metadata": {},
   "outputs": [],
   "source": [
    "valid_collocation('discuss')\n",
    "print()\n",
    "valid_collocation('explain')"
   ]
  }
 ],
 "metadata": {
  "kernelspec": {
   "display_name": "Python 3",
   "language": "python",
   "name": "python3"
  },
  "language_info": {
   "codemirror_mode": {
    "name": "ipython",
    "version": 3
   },
   "file_extension": ".py",
   "mimetype": "text/x-python",
   "name": "python",
   "nbconvert_exporter": "python",
   "pygments_lexer": "ipython3",
   "version": "3.7.4"
  },
  "toc": {
   "base_numbering": 1,
   "nav_menu": {},
   "number_sections": true,
   "sideBar": true,
   "skip_h1_title": false,
   "title_cell": "Table of Contents",
   "title_sidebar": "Contents",
   "toc_cell": true,
   "toc_position": {
    "height": "calc(100% - 180px)",
    "left": "10px",
    "top": "150px",
    "width": "288px"
   },
   "toc_section_display": true,
   "toc_window_display": true
  }
 },
 "nbformat": 4,
 "nbformat_minor": 4
}
