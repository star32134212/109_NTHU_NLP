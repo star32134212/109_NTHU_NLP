{
 "cells": [
  {
   "cell_type": "markdown",
   "metadata": {
    "toc": true
   },
   "source": [
    "<h1>Table of Contents<span class=\"tocSkip\"></span></h1>\n",
    "<div class=\"toc\"><ul class=\"toc-item\"><li><span><a href=\"#Set-verb-and-noun-collocations-from-BNC-data\" data-toc-modified-id=\"Set-verb-and-noun-collocations-from-BNC-data-1\"><span class=\"toc-item-num\">1&nbsp;&nbsp;</span>Set verb and noun collocations from BNC data</a></span><ul class=\"toc-item\"><li><span><a href=\"#[Step-1]-Build-index-for-verbs-and-nouns\" data-toc-modified-id=\"[Step-1]-Build-index-for-verbs-and-nouns-1.1\"><span class=\"toc-item-num\">1.1&nbsp;&nbsp;</span>[Step 1] Build index for verbs and nouns</a></span></li></ul></li><li><span><a href=\"#[Step-2]-Mutual-Information\" data-toc-modified-id=\"[Step-2]-Mutual-Information-2\"><span class=\"toc-item-num\">2&nbsp;&nbsp;</span>[Step 2] Mutual Information</a></span><ul class=\"toc-item\"><li><span><a href=\"#[Step-3]-Use-Nested-For-Loop-to-compute-Word-Similarity\" data-toc-modified-id=\"[Step-3]-Use-Nested-For-Loop-to-compute-Word-Similarity-2.1\"><span class=\"toc-item-num\">2.1&nbsp;&nbsp;</span>[Step 3] Use Nested For Loop to compute Word Similarity</a></span></li><li><span><a href=\"#[Step-4]-Set-the-cluster-for-verbs-and-nouns\" data-toc-modified-id=\"[Step-4]-Set-the-cluster-for-verbs-and-nouns-2.2\"><span class=\"toc-item-num\">2.2&nbsp;&nbsp;</span>[Step 4] Set the cluster for verbs and nouns</a></span></li></ul></li><li><span><a href=\"#Use-BNC-language-model-to-estimate-the-sentence.\" data-toc-modified-id=\"Use-BNC-language-model-to-estimate-the-sentence.-3\"><span class=\"toc-item-num\">3&nbsp;&nbsp;</span>Use BNC language model to estimate the sentence.</a></span><ul class=\"toc-item\"><li><span><a href=\"#[Step-5]-Language-Model\" data-toc-modified-id=\"[Step-5]-Language-Model-3.1\"><span class=\"toc-item-num\">3.1&nbsp;&nbsp;</span>[Step 5] Language Model</a></span></li><li><span><a href=\"#[Step-6]-Part-of-speech-tags-and-dependencies-by-spaCy\" data-toc-modified-id=\"[Step-6]-Part-of-speech-tags-and-dependencies-by-spaCy-3.2\"><span class=\"toc-item-num\">3.2&nbsp;&nbsp;</span>[Step 6] Part-of-speech tags and dependencies by spaCy</a></span></li></ul></li><li><span><a href=\"#Result\" data-toc-modified-id=\"Result-4\"><span class=\"toc-item-num\">4&nbsp;&nbsp;</span>Result</a></span><ul class=\"toc-item\"><li><span><a href=\"#Language-model-result\" data-toc-modified-id=\"Language-model-result-4.1\"><span class=\"toc-item-num\">4.1&nbsp;&nbsp;</span>Language model result</a></span></li></ul></li></ul></div>"
   ]
  },
  {
   "cell_type": "markdown",
   "metadata": {},
   "source": [
    "# Set verb and noun collocations from BNC data"
   ]
  },
  {
   "cell_type": "code",
   "execution_count": 2,
   "metadata": {},
   "outputs": [
    {
     "name": "stdout",
     "output_type": "stream",
     "text": [
      "All collocations counts = 679384\n",
      "[('affect', 'people', '113'), ('affect', 'way', '69'), ('affect', 'behaviour', '68'), ('affect', 'live', '66'), ('affect', 'performance', '64'), ('affect', 'health', '55'), ('affect', 'ability', '51')]\n"
     ]
    }
   ],
   "source": [
    "deps = [ line.strip().split('\\t') for line in open('bnc.vn.txt').readlines() ]\n",
    "vo = [ (w1, w2, count) for w1, dep, w2, count in deps ]\n",
    "print ('All collocations counts =', len(vo))\n",
    "print (vo[:7])"
   ]
  },
  {
   "cell_type": "markdown",
   "metadata": {},
   "source": [
    "## [Step 1] Build index for verbs and nouns"
   ]
  },
  {
   "cell_type": "code",
   "execution_count": 3,
   "metadata": {},
   "outputs": [
    {
     "name": "stdout",
     "output_type": "stream",
     "text": [
      "0\n",
      "\n",
      "[('agreement', 332), ('conclusion', 270), ('stage', 248), ('point', 247), ('level', 208), ('peak', 181), ('end', 170), ('age', 169), ('decision', 168), ('door', 138)]\n",
      "\n",
      "[('serve', 321), ('have', 228), ('achieve', 45), ('suit', 42), ('give', 31), ('explain', 22), ('fulfil', 22), ('see', 18), ('understand', 18), ('defeat', 17)]\n"
     ]
    }
   ],
   "source": [
    "from collections import defaultdict\n",
    "vocount = defaultdict(lambda: defaultdict(lambda: 0))\n",
    "ovcount = defaultdict(lambda: defaultdict(lambda: 0))\n",
    "\n",
    "for v, obj, count in vo:\n",
    "    ######### Your code here #########\n",
    "\n",
    "print (vocount['reach']['purpose'])\n",
    "print ()\n",
    "print (sorted(list(vocount['reach'].items()), key=lambda x: -x[1])[:10])\n",
    "print ()\n",
    "print (sorted(list(ovcount['purpose'].items()), key=lambda x: -x[1])[:10])"
   ]
  },
  {
   "cell_type": "markdown",
   "metadata": {},
   "source": [
    "# [Step 2] Mutual Information\n",
    "A Measure of Similarity. <br>\n",
    "Mutual information, I(x;y), compares the probability of observing word x and word y together (the joint probability) with the probabilities of observing x and y independently (chance)."
   ]
  },
  {
   "cell_type": "code",
   "execution_count": 29,
   "metadata": {},
   "outputs": [],
   "source": [
    "N = sum( int(count) for _, _, count in vo)\n",
    "\n",
    "def mi(v, o):\n",
    "    ######### Your code here #########"
   ]
  },
  {
   "cell_type": "code",
   "execution_count": 28,
   "metadata": {},
   "outputs": [
    {
     "name": "stdout",
     "output_type": "stream",
     "text": [
      "achieve purpose 3.9586\n"
     ]
    }
   ],
   "source": [
    "print ('achieve', 'purpose', mi('achieve', 'purpose'))"
   ]
  },
  {
   "cell_type": "markdown",
   "metadata": {},
   "source": [
    "## [Step 3] Use Nested For Loop to compute Word Similarity\n",
    "`Hint`\n",
    "1. path_similarity\n",
    "2. synsets"
   ]
  },
  {
   "cell_type": "code",
   "execution_count": 6,
   "metadata": {},
   "outputs": [],
   "source": [
    "from nltk.corpus import wordnet as wn\n",
    "from itertools import product\n",
    "\n",
    "def wn_sim(w1, w2, pos):\n",
    "    ######### Your code here #########"
   ]
  },
  {
   "cell_type": "code",
   "execution_count": 10,
   "metadata": {},
   "outputs": [
    {
     "name": "stdout",
     "output_type": "stream",
     "text": [
      "0.5\n",
      "0.2\n",
      "0.125\n"
     ]
    }
   ],
   "source": [
    "print(wn_sim('dog','puppy','n'))\n",
    "print(wn_sim('dog','cat','n'))\n",
    "print(wn_sim('dog','book','n'))"
   ]
  },
  {
   "cell_type": "markdown",
   "metadata": {},
   "source": [
    "## [Step 4] Set the cluster for verbs and nouns"
   ]
  },
  {
   "cell_type": "code",
   "execution_count": 14,
   "metadata": {},
   "outputs": [],
   "source": [
    "def n_cluster(v, o, sim):\n",
    "    objs = sorted(list(vocount[v].items()), key=lambda x: -x[1])\n",
    "    RES = [ (obj, mi(v, obj), sim(o, obj, 'n'))  for obj, count in objs ]\n",
    "    RES = [ (obj, m, s)  for obj, m, s in RES if m > 1.5 and s > .4 ]\n",
    "    return sorted(RES, key=lambda x: -x[2])\n",
    "\n",
    "def v_cluster(v, o, sim):\n",
    "    ######### Your code here #########"
   ]
  },
  {
   "cell_type": "code",
   "execution_count": 15,
   "metadata": {},
   "outputs": [
    {
     "data": {
      "text/plain": [
       "[('attain', 'goal', 5.3309, 1.0),\n",
       " ('achieve', 'goal', 5.3121, 1.0),\n",
       " ('accomplish', 'purpose', 4.6576, 1.0),\n",
       " ('accomplish', 'goal', 4.4155, 1.0),\n",
       " ('attain', 'purpose', 4.1807, 1.0),\n",
       " ('achieve', 'end', 4.0749, 1.0),\n",
       " ('achieve', 'purpose', 3.9586, 1.0),\n",
       " ('attain', 'end', 3.9185, 1.0),\n",
       " ('accomplish', 'end', 3.3954, 1.0),\n",
       " ('succeed', 'purpose', 2.7491, 0.5),\n",
       " ('succeed', 'goal', 2.507, 0.5)]"
      ]
     },
     "execution_count": 15,
     "metadata": {},
     "output_type": "execute_result"
    }
   ],
   "source": [
    "v_cluster('reach', 'purpose', wn_sim)"
   ]
  },
  {
   "cell_type": "markdown",
   "metadata": {},
   "source": [
    "# Use BNC language model to estimate the sentence."
   ]
  },
  {
   "cell_type": "code",
   "execution_count": 16,
   "metadata": {},
   "outputs": [
    {
     "name": "stdout",
     "output_type": "stream",
     "text": [
      "-10.401802062988281\n"
     ]
    }
   ],
   "source": [
    "import kenlm\n",
    "import pandas as pd\n",
    "import spacy\n",
    "from spacy import displacy\n",
    "\n",
    "nlp = spacy.load('en_core_web_lg')\n",
    "model = kenlm.Model('bnc.bin')\n",
    "print(model.score('this is an apple .', bos = True, eos = True))"
   ]
  },
  {
   "cell_type": "markdown",
   "metadata": {},
   "source": [
    "## [Step 5] Language Model"
   ]
  },
  {
   "cell_type": "code",
   "execution_count": 22,
   "metadata": {},
   "outputs": [],
   "source": [
    "from linggle_api import Linggle\n",
    "linggle = Linggle()\n",
    "\n",
    "# Detect the miscollocations\n",
    "# 透過Linggle查詢miscollocation，如果數量小於10000則判斷為error pair\n",
    "def check_count(pairs):\n",
    "    ######### Your code here #########\n",
    "\n",
    "def LM(vn_pair, sentence):\n",
    "    error_pair = check_count(vn_pair)\n",
    "    \n",
    "    if len(error_pair) == 0:\n",
    "        print('Your sentence is correct.')\n",
    "    else:\n",
    "        print('========Candidate collocations========')\n",
    "        for vn in error_pair:\n",
    "            ######### Your code here #########\n",
    "            # 結果也要用Linggle查詢，如果數量小於10000則忽略"
   ]
  },
  {
   "cell_type": "code",
   "execution_count": 25,
   "metadata": {},
   "outputs": [
    {
     "name": "stdout",
     "output_type": "stream",
     "text": [
      "141\n",
      "========Candidate collocations========\n",
      "[('attain', 'perfection', 6.1881, 1.0), ('confide', 'dream', 4.9112, 0.5), ('achieve', 'perfection', 4.0591, 1.0), ('communicate', 'dream', 3.8565, 0.5), ('relinquish', 'dream', 3.5168, 0.5), ('succeed', 'dream', 3.1847, 0.5), ('attain', 'dream', 2.6163, 1.0), ('achieve', 'dream', 1.9024, 1.0)]\n"
     ]
    },
    {
     "data": {
      "text/plain": [
       "[('He achieve his dream', -14.745, 51212),\n",
       " ('He achieve his perfection', -16.949, 17226),\n",
       " ('He attain his perfection', -17.321, 12322)]"
      ]
     },
     "execution_count": 25,
     "metadata": {},
     "output_type": "execute_result"
    }
   ],
   "source": [
    "LM([[('reach', 1), ('dream', 3)]], \"He reach his dream\".split())"
   ]
  },
  {
   "cell_type": "markdown",
   "metadata": {},
   "source": [
    "## [Step 6] Part-of-speech tags and dependencies by spaCy\n",
    "After tokenization, spaCy can parse and tag a given Doc. This is where the statistical model comes in, which enables spaCy to make a prediction of which tag or label most likely applies in this context. <br>"
   ]
  },
  {
   "cell_type": "code",
   "execution_count": 26,
   "metadata": {},
   "outputs": [],
   "source": [
    "def check_sentence_vn(doc):\n",
    "    sentence = []\n",
    "    for token in doc:\n",
    "        sentence.append([token.text, token.lemma_, token.pos_, token.tag_, token.dep_, token.head])\n",
    "\n",
    "    miscollocations = []\n",
    "    ######### Your code here #########\n",
    "    \n",
    "    print('========spaCy result=========')\n",
    "    print(pd.DataFrame(sentence))\n",
    "    print()\n",
    "    print('========Get miscollcation=========')\n",
    "    print(miscollocations)\n",
    "    print()\n",
    "    \n",
    "    return miscollocations"
   ]
  },
  {
   "cell_type": "code",
   "execution_count": 27,
   "metadata": {},
   "outputs": [
    {
     "name": "stdout",
     "output_type": "stream",
     "text": [
      "========spaCy result=========\n",
      "       0       1     2     3      4      5\n",
      "0     He  -PRON-  PRON   PRP  nsubj  reach\n",
      "1  reach   reach  VERB    VB   ROOT  reach\n",
      "2    his  -PRON-   DET  PRP$   poss  dream\n",
      "3  dream   dream  NOUN    NN   dobj  reach\n",
      "\n",
      "========Get miscollcation=========\n",
      "[[('reach', 1), ('dream', 3)]]\n",
      "\n"
     ]
    },
    {
     "data": {
      "text/plain": [
       "[[('reach', 1), ('dream', 3)]]"
      ]
     },
     "execution_count": 27,
     "metadata": {},
     "output_type": "execute_result"
    }
   ],
   "source": [
    "doc = nlp(\"He reach his dream\")\n",
    "check_sentence_vn(doc)"
   ]
  },
  {
   "cell_type": "markdown",
   "metadata": {},
   "source": [
    "# Result"
   ]
  },
  {
   "cell_type": "markdown",
   "metadata": {},
   "source": [
    "## Language model result"
   ]
  },
  {
   "cell_type": "code",
   "execution_count": 17,
   "metadata": {},
   "outputs": [
    {
     "name": "stderr",
     "output_type": "stream",
     "text": [
      "/usr/local/Cellar/python/3.7.4_1/Frameworks/Python.framework/Versions/3.7/lib/python3.7/runpy.py:193: UserWarning: [W011] It looks like you're calling displacy.serve from within a Jupyter notebook or a similar environment. This likely means you're already running a local web server, so there's no need to make displaCy start another one. Instead, you should be able to replace displacy.serve with displacy.render to show the visualization.\n",
      "  \"__main__\", mod_spec)\n"
     ]
    },
    {
     "data": {
      "text/html": [
       "<!DOCTYPE html>\n",
       "<html lang=\"en\">\n",
       "    <head>\n",
       "        <title>displaCy</title>\n",
       "    </head>\n",
       "\n",
       "    <body style=\"font-size: 16px; font-family: -apple-system, BlinkMacSystemFont, 'Segoe UI', Helvetica, Arial, sans-serif, 'Apple Color Emoji', 'Segoe UI Emoji', 'Segoe UI Symbol'; padding: 4rem 2rem; direction: ltr\">\n",
       "<figure style=\"margin-bottom: 6rem\">\n",
       "<svg xmlns=\"http://www.w3.org/2000/svg\" xmlns:xlink=\"http://www.w3.org/1999/xlink\" xml:lang=\"en\" id=\"e777a7d9ff674607a861d516f184929a-0\" class=\"displacy\" width=\"925\" height=\"399.5\" direction=\"ltr\" style=\"max-width: none; height: 399.5px; color: #000000; background: #ffffff; font-family: Arial; direction: ltr\">\n",
       "<text class=\"displacy-token\" fill=\"currentColor\" text-anchor=\"middle\" y=\"309.5\">\n",
       "    <tspan class=\"displacy-word\" fill=\"currentColor\" x=\"50\">He</tspan>\n",
       "    <tspan class=\"displacy-tag\" dy=\"2em\" fill=\"currentColor\" x=\"50\">PRON</tspan>\n",
       "</text>\n",
       "\n",
       "<text class=\"displacy-token\" fill=\"currentColor\" text-anchor=\"middle\" y=\"309.5\">\n",
       "    <tspan class=\"displacy-word\" fill=\"currentColor\" x=\"225\">have</tspan>\n",
       "    <tspan class=\"displacy-tag\" dy=\"2em\" fill=\"currentColor\" x=\"225\">AUX</tspan>\n",
       "</text>\n",
       "\n",
       "<text class=\"displacy-token\" fill=\"currentColor\" text-anchor=\"middle\" y=\"309.5\">\n",
       "    <tspan class=\"displacy-word\" fill=\"currentColor\" x=\"400\">a</tspan>\n",
       "    <tspan class=\"displacy-tag\" dy=\"2em\" fill=\"currentColor\" x=\"400\">DET</tspan>\n",
       "</text>\n",
       "\n",
       "<text class=\"displacy-token\" fill=\"currentColor\" text-anchor=\"middle\" y=\"309.5\">\n",
       "    <tspan class=\"displacy-word\" fill=\"currentColor\" x=\"575\">little</tspan>\n",
       "    <tspan class=\"displacy-tag\" dy=\"2em\" fill=\"currentColor\" x=\"575\">ADJ</tspan>\n",
       "</text>\n",
       "\n",
       "<text class=\"displacy-token\" fill=\"currentColor\" text-anchor=\"middle\" y=\"309.5\">\n",
       "    <tspan class=\"displacy-word\" fill=\"currentColor\" x=\"750\">mistake</tspan>\n",
       "    <tspan class=\"displacy-tag\" dy=\"2em\" fill=\"currentColor\" x=\"750\">NOUN</tspan>\n",
       "</text>\n",
       "\n",
       "<g class=\"displacy-arrow\">\n",
       "    <path class=\"displacy-arc\" id=\"arrow-e777a7d9ff674607a861d516f184929a-0-0\" stroke-width=\"2px\" d=\"M70,264.5 C70,177.0 215.0,177.0 215.0,264.5\" fill=\"none\" stroke=\"currentColor\"/>\n",
       "    <text dy=\"1.25em\" style=\"font-size: 0.8em; letter-spacing: 1px\">\n",
       "        <textPath xlink:href=\"#arrow-e777a7d9ff674607a861d516f184929a-0-0\" class=\"displacy-label\" startOffset=\"50%\" side=\"left\" fill=\"currentColor\" text-anchor=\"middle\">nsubj</textPath>\n",
       "    </text>\n",
       "    <path class=\"displacy-arrowhead\" d=\"M70,266.5 L62,254.5 78,254.5\" fill=\"currentColor\"/>\n",
       "</g>\n",
       "\n",
       "<g class=\"displacy-arrow\">\n",
       "    <path class=\"displacy-arc\" id=\"arrow-e777a7d9ff674607a861d516f184929a-0-1\" stroke-width=\"2px\" d=\"M420,264.5 C420,89.5 745.0,89.5 745.0,264.5\" fill=\"none\" stroke=\"currentColor\"/>\n",
       "    <text dy=\"1.25em\" style=\"font-size: 0.8em; letter-spacing: 1px\">\n",
       "        <textPath xlink:href=\"#arrow-e777a7d9ff674607a861d516f184929a-0-1\" class=\"displacy-label\" startOffset=\"50%\" side=\"left\" fill=\"currentColor\" text-anchor=\"middle\">det</textPath>\n",
       "    </text>\n",
       "    <path class=\"displacy-arrowhead\" d=\"M420,266.5 L412,254.5 428,254.5\" fill=\"currentColor\"/>\n",
       "</g>\n",
       "\n",
       "<g class=\"displacy-arrow\">\n",
       "    <path class=\"displacy-arc\" id=\"arrow-e777a7d9ff674607a861d516f184929a-0-2\" stroke-width=\"2px\" d=\"M595,264.5 C595,177.0 740.0,177.0 740.0,264.5\" fill=\"none\" stroke=\"currentColor\"/>\n",
       "    <text dy=\"1.25em\" style=\"font-size: 0.8em; letter-spacing: 1px\">\n",
       "        <textPath xlink:href=\"#arrow-e777a7d9ff674607a861d516f184929a-0-2\" class=\"displacy-label\" startOffset=\"50%\" side=\"left\" fill=\"currentColor\" text-anchor=\"middle\">amod</textPath>\n",
       "    </text>\n",
       "    <path class=\"displacy-arrowhead\" d=\"M595,266.5 L587,254.5 603,254.5\" fill=\"currentColor\"/>\n",
       "</g>\n",
       "\n",
       "<g class=\"displacy-arrow\">\n",
       "    <path class=\"displacy-arc\" id=\"arrow-e777a7d9ff674607a861d516f184929a-0-3\" stroke-width=\"2px\" d=\"M245,264.5 C245,2.0 750.0,2.0 750.0,264.5\" fill=\"none\" stroke=\"currentColor\"/>\n",
       "    <text dy=\"1.25em\" style=\"font-size: 0.8em; letter-spacing: 1px\">\n",
       "        <textPath xlink:href=\"#arrow-e777a7d9ff674607a861d516f184929a-0-3\" class=\"displacy-label\" startOffset=\"50%\" side=\"left\" fill=\"currentColor\" text-anchor=\"middle\">dobj</textPath>\n",
       "    </text>\n",
       "    <path class=\"displacy-arrowhead\" d=\"M750.0,266.5 L758.0,254.5 742.0,254.5\" fill=\"currentColor\"/>\n",
       "</g>\n",
       "</svg>\n",
       "</figure>\n",
       "</body>\n",
       "</html>"
      ],
      "text/plain": [
       "<IPython.core.display.HTML object>"
      ]
     },
     "metadata": {},
     "output_type": "display_data"
    },
    {
     "name": "stdout",
     "output_type": "stream",
     "text": [
      "\n",
      "Using the 'dep' visualizer\n",
      "Serving on http://0.0.0.0:5000 ...\n",
      "\n",
      "Shutting down server on port 5000.\n"
     ]
    }
   ],
   "source": [
    "doc = nlp(\"He have a little mistake\")\n",
    "displacy.serve(doc, style=\"dep\")"
   ]
  },
  {
   "cell_type": "code",
   "execution_count": 18,
   "metadata": {},
   "outputs": [
    {
     "name": "stdout",
     "output_type": "stream",
     "text": [
      "========spaCy result=========\n",
      "         0        1     2    3      4        5\n",
      "0       He   -PRON-  PRON  PRP  nsubj     have\n",
      "1     have     have   AUX  VBP   ROOT     have\n",
      "2        a        a   DET   DT    det  mistake\n",
      "3   little   little   ADJ   JJ   amod  mistake\n",
      "4  mistake  mistake  NOUN   NN   dobj     have\n",
      "\n",
      "========Get miscollcation=========\n",
      "[[('have', 1), ('mistake', 4)]]\n",
      "\n",
      "408\n",
      "========Candidate collocations========\n",
      "[('make', 'mistake', 4.8679, 1.0), ('admit', 'mistake', 3.6547, 0.5)]\n",
      "\n",
      "======Result======\n",
      " [('He make a little mistake', -14.332, 849532), ('He admit a little mistake', -18.132, 26557)]\n"
     ]
    }
   ],
   "source": [
    "print('\\n======Result======\\n', LM(check_sentence_vn(doc), str(doc).split()))"
   ]
  },
  {
   "cell_type": "code",
   "execution_count": null,
   "metadata": {},
   "outputs": [],
   "source": []
  }
 ],
 "metadata": {
  "kernelspec": {
   "display_name": "Python 3",
   "language": "python",
   "name": "python3"
  },
  "language_info": {
   "codemirror_mode": {
    "name": "ipython",
    "version": 3
   },
   "file_extension": ".py",
   "mimetype": "text/x-python",
   "name": "python",
   "nbconvert_exporter": "python",
   "pygments_lexer": "ipython3",
   "version": "3.7.3"
  },
  "toc": {
   "base_numbering": 1,
   "nav_menu": {},
   "number_sections": true,
   "sideBar": true,
   "skip_h1_title": false,
   "title_cell": "Table of Contents",
   "title_sidebar": "Contents",
   "toc_cell": true,
   "toc_position": {
    "height": "calc(100% - 180px)",
    "left": "10px",
    "top": "150px",
    "width": "288px"
   },
   "toc_section_display": true,
   "toc_window_display": true
  },
  "toc-autonumbering": false,
  "toc-showcode": false,
  "toc-showmarkdowntxt": false,
  "toc-showtags": false
 },
 "nbformat": 4,
 "nbformat_minor": 4
}
