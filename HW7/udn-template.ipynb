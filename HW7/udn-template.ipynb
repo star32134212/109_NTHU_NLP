{
 "cells": [
  {
   "cell_type": "markdown",
   "metadata": {},
   "source": [
    "## ERRANT for Mandarin GEC\n",
    "\n",
    "### References\n",
    "#### https://github.com/getao/errant2. \n",
    "#### https://www.aclweb.org/anthology/P17-1074/3. \n",
    "#### https://www.repository.cam.ac.uk/handle/1810/293719\n",
    "#### https://github.com/ckiplab/ckiptagger (install and download model files)"
   ]
  },
  {
   "cell_type": "markdown",
   "metadata": {},
   "source": [
    "# Using CkipTagger\n",
    "中研院斷詞工具"
   ]
  },
  {
   "cell_type": "code",
   "execution_count": 3,
   "metadata": {},
   "outputs": [
    {
     "name": "stderr",
     "output_type": "stream",
     "text": [
      "/usr/local/lib/python3.7/site-packages/tensorflow/python/framework/dtypes.py:526: FutureWarning: Passing (type, 1) or '1type' as a synonym of type is deprecated; in a future version of numpy, it will be understood as (type, (1,)) / '(1,)type'.\n",
      "  _np_qint8 = np.dtype([(\"qint8\", np.int8, 1)])\n",
      "/usr/local/lib/python3.7/site-packages/tensorflow/python/framework/dtypes.py:527: FutureWarning: Passing (type, 1) or '1type' as a synonym of type is deprecated; in a future version of numpy, it will be understood as (type, (1,)) / '(1,)type'.\n",
      "  _np_quint8 = np.dtype([(\"quint8\", np.uint8, 1)])\n",
      "/usr/local/lib/python3.7/site-packages/tensorflow/python/framework/dtypes.py:528: FutureWarning: Passing (type, 1) or '1type' as a synonym of type is deprecated; in a future version of numpy, it will be understood as (type, (1,)) / '(1,)type'.\n",
      "  _np_qint16 = np.dtype([(\"qint16\", np.int16, 1)])\n",
      "/usr/local/lib/python3.7/site-packages/tensorflow/python/framework/dtypes.py:529: FutureWarning: Passing (type, 1) or '1type' as a synonym of type is deprecated; in a future version of numpy, it will be understood as (type, (1,)) / '(1,)type'.\n",
      "  _np_quint16 = np.dtype([(\"quint16\", np.uint16, 1)])\n",
      "/usr/local/lib/python3.7/site-packages/tensorflow/python/framework/dtypes.py:530: FutureWarning: Passing (type, 1) or '1type' as a synonym of type is deprecated; in a future version of numpy, it will be understood as (type, (1,)) / '(1,)type'.\n",
      "  _np_qint32 = np.dtype([(\"qint32\", np.int32, 1)])\n",
      "/usr/local/lib/python3.7/site-packages/tensorflow/python/framework/dtypes.py:535: FutureWarning: Passing (type, 1) or '1type' as a synonym of type is deprecated; in a future version of numpy, it will be understood as (type, (1,)) / '(1,)type'.\n",
      "  np_resource = np.dtype([(\"resource\", np.ubyte, 1)])\n"
     ]
    },
    {
     "name": "stdout",
     "output_type": "stream",
     "text": [
      "\n",
      "WARNING: The TensorFlow contrib module will not be included in TensorFlow 2.0.\n",
      "For more information, please see:\n",
      "  * https://github.com/tensorflow/community/blob/master/rfcs/20180907-contrib-sunset.md\n",
      "  * https://github.com/tensorflow/addons\n",
      "If you depend on functionality not listed there, please file an issue.\n",
      "\n"
     ]
    }
   ],
   "source": [
    "# Visit https://github.com/ckiplab/ckiptagger to install and download model files\n",
    "from ckiptagger import data_utils, construct_dictionary, WS, POS, NER\n",
    "ws = WS('/Users/winniehsu/Program/ckipmodel/')\n",
    "pos = POS('/Users/winniehsu/Program/ckipmodel/')"
   ]
  },
  {
   "cell_type": "code",
   "execution_count": 4,
   "metadata": {},
   "outputs": [
    {
     "name": "stdout",
     "output_type": "stream",
     "text": [
      "這 也 間接 突顯出 鴻海\n",
      "也 直接 透露出 鴻海\n"
     ]
    }
   ],
   "source": [
    "import re\n",
    "def before_edit(text):\n",
    "    return re.sub('(\\[\\-|\\-\\]|\\{\\+.*?\\+\\})', '', text)\n",
    "    \n",
    "def after_edit(text):\n",
    "    return re.sub('\\[\\-.*?\\-\\]|\\{\\+|\\+\\}', '', text)\n",
    "\n",
    "text = '[-這-]也[-間-][-接-]{+直+}{+接+}{+透露+}{+出+}[-突-][-顯-][-出-]鴻海'\n",
    "\n",
    "text_before = ' '.join(ws(before_edit(text).splitlines())[0])\n",
    "print (text_before)\n",
    "\n",
    "text_after = ' '.join(ws(after_edit(text).splitlines())[0])\n",
    "print (text_after)"
   ]
  },
  {
   "cell_type": "markdown",
   "metadata": {},
   "source": [
    "# [Step 1] 加入詞性參考 by ckip\n",
    "input\n",
    "``` Python\n",
    "text = '這也間接突顯出鴻海'\n",
    "text = '也直接透露出鴻海'\n",
    "\n",
    "```\n",
    "return\n",
    "``` Python\n",
    "[('這', 'Nep'), ('也', 'D'), ('間接', 'D'), ('突顯出', 'VJ'), ('鴻海', 'Nb')]\n",
    "[('也', 'D'), ('直接', 'VH'), ('透露出', 'VK'), ('鴻海', 'Nb')]\n",
    "```"
   ]
  },
  {
   "cell_type": "code",
   "execution_count": 481,
   "metadata": {},
   "outputs": [
    {
     "name": "stdout",
     "output_type": "stream",
     "text": [
      "[('這', 'Nep'), ('也', 'D'), ('間接', 'D'), ('突顯出', 'VJ'), ('鴻海', 'Nb')]\n",
      "[('也', 'D'), ('直接', 'VH'), ('透露出', 'VK'), ('鴻海', 'Nb')]\n"
     ]
    }
   ],
   "source": [
    "def seg_pos(text):\n",
    "    ##### Your code here #####\n",
    "\n",
    "print (seg_pos(before_edit(text)))\n",
    "print (seg_pos(after_edit(text)))"
   ]
  },
  {
   "cell_type": "code",
   "execution_count": 473,
   "metadata": {},
   "outputs": [
    {
     "data": {
      "text/plain": [
       "([('這', 'Nep'), ('也', 'D'), ('間接', 'D'), ('突顯出', 'VJ'), ('鴻海', 'Nb')],\n",
       " [('也', 'D'), ('透露出', 'VK'), ('鴻海', 'Nb')])"
      ]
     },
     "execution_count": 473,
     "metadata": {},
     "output_type": "execute_result"
    }
   ],
   "source": [
    "sent_orig = seg_pos(before_edit(text))\n",
    "sent_correct = seg_pos(after_edit(text)) \n",
    "sent_orig, sent_correct"
   ]
  },
  {
   "cell_type": "markdown",
   "metadata": {},
   "source": [
    "# [Strp 2] 計算 edit cost 返回cost_matrix, op_matrix\n",
    "`Hint:[Strp 2]會呼叫[Strp 3]的方法，Cost可以自己調整`\n",
    "\n",
    "```\n",
    "M是Match\n",
    "I是insert cost\n",
    "D是delete cost\n",
    "R是replace cost\n",
    "I/D是insert和delete相加的cost\n",
    "```\n",
    "input\n",
    "``` Python\n",
    "orig = [('這', 'Nep'), ('也', 'D'), ('間接', 'D'), ('突顯出', 'VJ'), ('鴻海', 'Nb')]\n",
    "cor = [('也', 'D'), ('直接', 'VH'), ('透露出', 'VK'), ('鴻海', 'Nb')]\n",
    "\n",
    "```\n",
    "return\n",
    "``` Python\n",
    "cost_matrix = \n",
    " [[0, 2, 4, 5, 4],\n",
    "  [4, 6, 8, 9, 8],\n",
    "  [2, 0, 6, 7, 6],\n",
    "  [3, 5, 5, 8, 7],\n",
    "  [5, 7, 8, 5, 8],\n",
    "  [4, 6, 8, 9, 0]]\n",
    "    \n",
    "op_matrix =\n",
    " [['O', 'I', 'I', 'I', 'I'],\n",
    "  ['D', 'I/D', 'I/D', 'I/D', 'I/D'],\n",
    "  ['D', 'M', 'I/D', 'I/D', 'I/D'],\n",
    "  ['D', 'I/D', 'R', 'I/D', 'I/D'],\n",
    "  ['D', 'I/D', 'R', 'R', 'R'],\n",
    "  ['D', 'I/D', 'I/D', 'I/D', 'M']]\n",
    "```"
   ]
  },
  {
   "cell_type": "code",
   "execution_count": 487,
   "metadata": {},
   "outputs": [],
   "source": [
    "def calculate_edit_cost(orig, cor):\n",
    "    o_len = len(orig)\n",
    "    c_len = len(cor)\n",
    "    # Create the cost_matrix and the op_matrix\n",
    "    cost_matrix = [[0 for j in range(c_len+1)] for i in range(o_len+1)]\n",
    "    op_matrix = [[\"O\" for j in range(c_len+1)] for i in range(o_len+1)]\n",
    "    # Fill in the edges\n",
    "    for i in range(1, o_len+1):\n",
    "        cost_matrix[i][0] = nltk.edit_distance(orig[i-1][1] + orig[i-1][0], '')\n",
    "        op_matrix[i][0] = \"D\"\n",
    "    for j in range(1, c_len+1):\n",
    "        cost_matrix[0][j] = nltk.edit_distance('', cor[j-1][1] + cor[j-1][0])\n",
    "        op_matrix[0][j] = \"I\"\n",
    "\n",
    "    # Loop through the cost_matrix\n",
    "    for i in range(o_len):\n",
    "        for j in range(c_len):\n",
    "            # Matches\n",
    "            if orig[i] == cor[j]:\n",
    "                cost_matrix[i+1][j+1] = 0\n",
    "                op_matrix[i+1][j+1] = \"M\"\n",
    "            # Non-matches\n",
    "            else:\n",
    "                ##### Your code here #####\n",
    "                \n",
    "    # Return the matrices\n",
    "    return cost_matrix, op_matrix"
   ]
  },
  {
   "cell_type": "markdown",
   "metadata": {},
   "source": [
    "# [Strp 3] 計算Replace的cost\n",
    "嘗試找出可能可以計算cost的方式，例如檢查詞性、詞的長度或詞的差異等，最後將所有的cost相加回傳。\n",
    "\n",
    "`Hint 要給多少Cost可以自己設定`\n",
    "\n",
    "input\n",
    "``` Python\n",
    "orig = ('突顯出', 'VJ')\n",
    "cor = ('透露出', 'VK')\n",
    "\n",
    "```\n",
    "return cost"
   ]
  },
  {
   "cell_type": "code",
   "execution_count": 488,
   "metadata": {},
   "outputs": [],
   "source": [
    "def get_sub_cost(o, c):\n",
    "    if o == c: return 0\n",
    "    ##### Your code here #####\n",
    "    return cost"
   ]
  },
  {
   "cell_type": "code",
   "execution_count": null,
   "metadata": {},
   "outputs": [],
   "source": [
    "calculate_edit_cost(sent_orig, sent_correct)"
   ]
  },
  {
   "cell_type": "markdown",
   "metadata": {},
   "source": [
    "# [Step 4] format cost_matrix and op_matrix\n",
    "\n",
    "return\n",
    "``` Python\n",
    "[(0, 'R', '這', '透露出'), (2, 'D', '間接'), (3, 'R', '突顯出', '直接')]\n",
    "```"
   ]
  },
  {
   "cell_type": "code",
   "execution_count": 490,
   "metadata": {},
   "outputs": [],
   "source": [
    "def format_align(cost_matrix, op_matrix, orig, cor):\n",
    "    ##### Your code here #####"
   ]
  },
  {
   "cell_type": "code",
   "execution_count": 491,
   "metadata": {},
   "outputs": [
    {
     "name": "stdout",
     "output_type": "stream",
     "text": [
      "['這', '也', '間接', '突顯出', '鴻海']\n",
      "['也', '直接', '透露出', '鴻海']\n"
     ]
    },
    {
     "data": {
      "text/plain": [
       "[(0, 'R', '這', '透露出'), (2, 'D', '間接'), (3, 'R', '突顯出', '直接')]"
      ]
     },
     "execution_count": 491,
     "metadata": {},
     "output_type": "execute_result"
    }
   ],
   "source": [
    "s = ws(before_edit(text).splitlines())[0]\n",
    "t = ws(after_edit(text).splitlines())[0]\n",
    "print(s)\n",
    "print(t)\n",
    "cost_matrix, op_matrix = calculate_edit_cost(sent_orig, sent_correct)\n",
    "format_align(cost_matrix, op_matrix, s, t)"
   ]
  },
  {
   "cell_type": "code",
   "execution_count": null,
   "metadata": {},
   "outputs": [],
   "source": []
  },
  {
   "cell_type": "code",
   "execution_count": null,
   "metadata": {},
   "outputs": [],
   "source": []
  }
 ],
 "metadata": {
  "kernelspec": {
   "display_name": "Python 3",
   "language": "python",
   "name": "python3"
  },
  "language_info": {
   "codemirror_mode": {
    "name": "ipython",
    "version": 3
   },
   "file_extension": ".py",
   "mimetype": "text/x-python",
   "name": "python",
   "nbconvert_exporter": "python",
   "pygments_lexer": "ipython3",
   "version": "3.7.3"
  }
 },
 "nbformat": 4,
 "nbformat_minor": 4
}
